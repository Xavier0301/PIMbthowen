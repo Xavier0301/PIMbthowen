{
 "cells": [
  {
   "cell_type": "code",
   "execution_count": 1,
   "metadata": {},
   "outputs": [],
   "source": [
    "import matplotlib.pyplot as plt\n",
    "import re"
   ]
  },
  {
   "cell_type": "code",
   "execution_count": 9,
   "metadata": {},
   "outputs": [],
   "source": [
    "data = \"\"\"#tasklets: 1, block: 9\n",
    "DPU instructions  = 1525312\n",
    "#tasklets: 2, block: 9\n",
    "DPU instructions  = 762688\n",
    "#tasklets: 3, block: 9\n",
    "DPU instructions  = 508523\n",
    "#tasklets: 4, block: 9\n",
    "DPU instructions  = 381420\n",
    "#tasklets: 5, block: 9\n",
    "DPU instructions  = 305203\n",
    "#tasklets: 6, block: 9\n",
    "DPU instructions  = 254373\n",
    "#tasklets: 9, block: 9\n",
    "DPU instructions  = 169671\n",
    "#tasklets: 12, block: 9\n",
    "DPU instructions  = 127351\n",
    "#tasklets: 16, block: 9\n",
    "DPU instructions  = 95629\n",
    "#tasklets: 20, block: 9\n",
    "DPU instructions  = 76623\n",
    "#tasklets: 24, block: 9\n",
    "DPU instructions  = 63970\"\"\""
   ]
  },
  {
   "cell_type": "code",
   "execution_count": 10,
   "metadata": {},
   "outputs": [],
   "source": [
    "pattern1 = re.compile(r\"DPU instructions  = \\s*(\\d+(\\.\\d+)?)\")\n",
    "\n",
    "instr_count = []\n",
    "for m in pattern1.finditer(data):\n",
    "  # Extract the captured group (the number in scientific notation)\n",
    "  # print(m)\n",
    "  number = m.group(1)\n",
    "  instr_count.append(float(number))"
   ]
  },
  {
   "cell_type": "code",
   "execution_count": 11,
   "metadata": {},
   "outputs": [],
   "source": [
    "pattern2 = re.compile(r\"DPU Kernel Time \\(ms\\): \\s*(\\d+\\.\\d+)\")\n",
    "\n",
    "times = []\n",
    "for m in pattern2.finditer(data):\n",
    "  # Extract the captured group (the number in scientific notation)\n",
    "  number = m.group(1)\n",
    "  times.append(float(number))"
   ]
  },
  {
   "cell_type": "code",
   "execution_count": 12,
   "metadata": {},
   "outputs": [
    {
     "name": "stdout",
     "output_type": "stream",
     "text": [
      "11\n"
     ]
    }
   ],
   "source": [
    "print(len(instr_count))\n",
    "# assert len(times) == 24"
   ]
  },
  {
   "cell_type": "code",
   "execution_count": 13,
   "metadata": {},
   "outputs": [],
   "source": [
    "def norm(array):\n",
    "    m = min(array)\n",
    "    M = max(array)\n",
    "    d = M - m\n",
    "\n",
    "    return [(el - m) / d for el in array]"
   ]
  },
  {
   "cell_type": "code",
   "execution_count": 14,
   "metadata": {},
   "outputs": [
    {
     "data": {
      "image/png": "[encoded data removed]",
      "text/plain": [
       "<Figure size 432x288 with 1 Axes>"
      ]
     },
     "metadata": {
      "needs_background": "light"
     },
     "output_type": "display_data"
    }
   ],
   "source": [
    "x = [1, 2, 3, 4, 5, 6, 9, 12, 16, 20, 24]\n",
    "\n",
    "plt.plot(x, instr_count)\n",
    "# plt.plot(x, norm(times))\n",
    "\n",
    "plt.xlabel(\"Tasklet count\")\n",
    "# plt.ylabel(\"Instruction count of longest running tasklet\")\n",
    "\n",
    "plt.savefig(\"instr_per_tasklet_number.pdf\")\n",
    "plt.show()"
   ]
  },
  {
   "cell_type": "code",
   "execution_count": null,
   "metadata": {},
   "outputs": [],
   "source": []
  }
 ],
 "metadata": {
  "kernelspec": {
   "display_name": "Python 3.7.3 ('base')",
   "language": "python",
   "name": "python3"
  },
  "language_info": {
   "codemirror_mode": {
    "name": "ipython",
    "version": 3
   },
   "file_extension": ".py",
   "mimetype": "text/x-python",
   "name": "python",
   "nbconvert_exporter": "python",
   "pygments_lexer": "ipython3",
   "version": "3.7.3"
  },
  "orig_nbformat": 4,
  "vscode": {
   "interpreter": {
    "hash": "e00ca085632767b39c1d818d5cca44a8a71efc11d23f430e46339e4426f7dca0"
   }
  }
 },
 "nbformat": 4,
 "nbformat_minor": 2
}
